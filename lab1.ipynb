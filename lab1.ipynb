{
  "nbformat": 4,
  "nbformat_minor": 0,
  "metadata": {
    "colab": {
      "provenance": [],
      "authorship_tag": "ABX9TyM6xZRgCWD96TXsfMJTzEFD",
      "include_colab_link": true
    },
    "kernelspec": {
      "name": "python3",
      "display_name": "Python 3"
    },
    "language_info": {
      "name": "python"
    }
  },
  "cells": [
    {
      "cell_type": "markdown",
      "metadata": {
        "id": "view-in-github",
        "colab_type": "text"
      },
      "source": [
        "<a href=\"https://colab.research.google.com/github/SahithiK792/ML/blob/main/lab1.ipynb\" target=\"_parent\"><img src=\"https://colab.research.google.com/assets/colab-badge.svg\" alt=\"Open In Colab\"/></a>"
      ]
    },
    {
      "cell_type": "code",
      "execution_count": 8,
      "metadata": {
        "colab": {
          "base_uri": "https://localhost:8080/"
        },
        "id": "ro_eyoQBss1I",
        "outputId": "7c6630e1-6979-403d-b69d-3b402d2e871a"
      },
      "outputs": [
        {
          "output_type": "stream",
          "name": "stdout",
          "text": [
            "2\n"
          ]
        }
      ],
      "source": [
        "\n",
        "def main():\n",
        "    l=[2,7,4,1,3,6]\n",
        "    c=0\n",
        "\n",
        "    for i in range(len(l)):\n",
        "        for j in range(i+1,len(l)):\n",
        "\t        if l[i]+l[j] ==10:\n",
        "\t            c+=1\n",
        "    print(c)\n",
        "main()"
      ]
    },
    {
      "cell_type": "code",
      "source": [
        "import random\n",
        "import statistics\n",
        "\n",
        "number=[random.randint(1,10) for _ in range(25)]\n",
        "print(\"numbers:\", number)\n",
        "print(\"mean:\", statistics.mean(number))\n",
        "print(\"mode:\", statistics.mode(number))\n",
        "print(\"median:\", statistics.median(number))"
      ],
      "metadata": {
        "colab": {
          "base_uri": "https://localhost:8080/"
        },
        "id": "gWgYEUp4tpKk",
        "outputId": "e88db046-9d57-477c-a2b8-6405bbdae146"
      },
      "execution_count": 9,
      "outputs": [
        {
          "output_type": "stream",
          "name": "stdout",
          "text": [
            "numbers: [1, 6, 1, 1, 2, 9, 5, 1, 2, 6, 2, 6, 5, 1, 9, 6, 8, 7, 10, 8, 1, 1, 1, 5, 1]\n",
            "mean: 4.2\n",
            "mode: 1\n",
            "median: 5\n"
          ]
        }
      ]
    },
    {
      "cell_type": "code",
      "source": [
        "def find(ls):\n",
        "    if len(ls)<3:\n",
        "        return \"not possible\"\n",
        "    return max(ls)-min(ls)\n",
        "\n",
        "ls=[5,3,8,1,0,4]\n",
        "print(\"range:\" ,find(ls))\n",
        "\n"
      ],
      "metadata": {
        "colab": {
          "base_uri": "https://localhost:8080/"
        },
        "id": "fdifV5IbtHma",
        "outputId": "febaa78d-144d-4a70-bf10-48b717644dee"
      },
      "execution_count": 5,
      "outputs": [
        {
          "output_type": "stream",
          "name": "stdout",
          "text": [
            "range: 8\n"
          ]
        }
      ]
    },
    {
      "cell_type": "code",
      "source": [
        "import numpy as np\n",
        "new_matrix=np.array([[1,2],[3,4]])\n",
        "m=3\n",
        "result= np.linalg.matrix_power(new_matrix,m)\n",
        "print(result)"
      ],
      "metadata": {
        "colab": {
          "base_uri": "https://localhost:8080/"
        },
        "id": "kg4ExP75tdon",
        "outputId": "52419b70-178e-4fe8-d774-828dffc72560"
      },
      "execution_count": 6,
      "outputs": [
        {
          "output_type": "stream",
          "name": "stdout",
          "text": [
            "[[ 37  54]\n",
            " [ 81 118]]\n"
          ]
        }
      ]
    },
    {
      "cell_type": "code",
      "source": [
        "def max_count_char(word):\n",
        "    word=word.lower()\n",
        "    freq={}\n",
        "    for ch in word:\n",
        "        if ch.isalpha():\n",
        "            freq[ch]=freq.get(ch,0)+1\n",
        "    max_char=max(freq,key=freq.get)\n",
        "    print(f\"most freq char is {max_char} , count : {freq[max_char]}\")\n",
        "max_count_char(\"hippopotamus\")"
      ],
      "metadata": {
        "colab": {
          "base_uri": "https://localhost:8080/"
        },
        "id": "3LxN-DUxs7Oe",
        "outputId": "88838d98-a893-450a-de7a-ef48892e98ff"
      },
      "execution_count": 7,
      "outputs": [
        {
          "output_type": "stream",
          "name": "stdout",
          "text": [
            "most freq char is p , count : 3\n"
          ]
        }
      ]
    }
  ]
}